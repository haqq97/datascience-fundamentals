{
 "cells": [
  {
   "cell_type": "markdown",
   "id": "0f6f47c7",
   "metadata": {},
   "source": [
    "Python has several built-in data types commonly used in data science and ML workflows.\n",
    "\n",
    "- `int`: Integer numbers  \n",
    "- `float`: Decimal numbers  \n",
    "- `str`: Text data (strings)  \n",
    "- `bool`: Boolean values (`True`, `False`)  \n",
    "- `list`, `tuple`, `dict`, `set`: Data collections"
   ]
  },
  {
   "cell_type": "code",
   "execution_count": 2,
   "id": "687070ef",
   "metadata": {},
   "outputs": [
    {
     "name": "stdout",
     "output_type": "stream",
     "text": [
      "<class 'int'> <class 'float'> <class 'str'> <class 'bool'>\n"
     ]
    }
   ],
   "source": [
    "age = 28                      # int\n",
    "price = 19.99                # float\n",
    "name = \"Alice\"               # str\n",
    "is_logged_in = True          # bool\n",
    "\n",
    "print(type(age), type(price), type(name), type(is_logged_in))"
   ]
  },
  {
   "cell_type": "markdown",
   "id": "32387a47",
   "metadata": {},
   "source": [
    "Python supports various operators:\n",
    "\n",
    "- **Arithmetic**: `+`, `-`, `*`, `/`, `//`, `%`, `**`\n",
    "- **Comparison**: `==`, `!=`, `>`, `<`, `>=`, `<=`\n",
    "- **Logical**: `and`, `or`, `not`\n",
    "- **Assignment**: `=`, `+=`, `-=`, `*=`, etc."
   ]
  },
  {
   "cell_type": "code",
   "execution_count": 6,
   "id": "58d13f69",
   "metadata": {},
   "outputs": [
    {
     "name": "stdout",
     "output_type": "stream",
     "text": [
      "Each kid gets: 4\n",
      "Leftover cookies: 1\n",
      "2 to the power of 5 is: 32\n"
     ]
    }
   ],
   "source": [
    "# // - floor division returns the integer part of the division (rounds down).\n",
    "cookies = 9\n",
    "kids = 2\n",
    "cookies_per_kid = cookies // kids\n",
    "print(\"Each kid gets:\", cookies_per_kid)  # Output: 4\n",
    "\n",
    "# The % operator returns the remainder of a division.\n",
    "leftover_cookies = cookies % kids\n",
    "print(\"Leftover cookies:\", leftover_cookies)  # Output: 1\n",
    "\n",
    "# The ** operator is used for power/exponentiation.\n",
    "base = 2\n",
    "power = 5\n",
    "result = base ** power\n",
    "print(\"2 to the power of 5 is:\", result)  # Output: 32\n"
   ]
  },
  {
   "cell_type": "markdown",
   "id": "0c719d9d",
   "metadata": {},
   "source": [
    "Control flow lets you execute different code paths based on conditions.\n"
   ]
  },
  {
   "cell_type": "code",
   "execution_count": 3,
   "id": "2769c84e",
   "metadata": {},
   "outputs": [
    {
     "name": "stdout",
     "output_type": "stream",
     "text": [
      "Grade: B\n"
     ]
    }
   ],
   "source": [
    "score = 85\n",
    "\n",
    "if score >= 90:\n",
    "    print(\"Grade: A\")\n",
    "elif score >= 80:\n",
    "    print(\"Grade: B\")\n",
    "else:\n",
    "    print(\"Keep working!\")"
   ]
  },
  {
   "cell_type": "markdown",
   "id": "b8634912",
   "metadata": {},
   "source": [
    "Loops let you repeat actions.\n",
    "\n",
    "- `for` → iterate over a sequence\n",
    "- `while` → repeat while a condition is true"
   ]
  },
  {
   "cell_type": "code",
   "execution_count": 4,
   "id": "be774261",
   "metadata": {},
   "outputs": [
    {
     "name": "stdout",
     "output_type": "stream",
     "text": [
      "Welcome, Alice\n",
      "Welcome, Bob\n",
      "Welcome, Charlie\n",
      "Try 1\n",
      "Try 2\n",
      "Try 3\n"
     ]
    }
   ],
   "source": [
    "# For loop\n",
    "users = [\"Alice\", \"Bob\", \"Charlie\"]\n",
    "for user in users:\n",
    "    print(\"Welcome,\", user)\n",
    "\n",
    "# While loop\n",
    "attempts = 0\n",
    "while attempts < 3:\n",
    "    print(\"Try\", attempts + 1)\n",
    "    attempts += 1"
   ]
  },
  {
   "cell_type": "markdown",
   "id": "ef5de7f7",
   "metadata": {},
   "source": [
    "Functions let you reuse logic. They make code cleaner and modular."
   ]
  },
  {
   "cell_type": "code",
   "execution_count": 5,
   "id": "cb3e03d7",
   "metadata": {},
   "outputs": [
    {
     "name": "stdout",
     "output_type": "stream",
     "text": [
      "Final Price: 80.0\n"
     ]
    }
   ],
   "source": [
    "def calculate_discount(price, discount_percent):\n",
    "    discount = price * (discount_percent / 100)\n",
    "    return price - discount\n",
    "\n",
    "print(\"Final Price:\", calculate_discount(100, 20))"
   ]
  }
 ],
 "metadata": {
  "kernelspec": {
   "display_name": "venv",
   "language": "python",
   "name": "python3"
  },
  "language_info": {
   "codemirror_mode": {
    "name": "ipython",
    "version": 3
   },
   "file_extension": ".py",
   "mimetype": "text/x-python",
   "name": "python",
   "nbconvert_exporter": "python",
   "pygments_lexer": "ipython3",
   "version": "3.12.7"
  }
 },
 "nbformat": 4,
 "nbformat_minor": 5
}
